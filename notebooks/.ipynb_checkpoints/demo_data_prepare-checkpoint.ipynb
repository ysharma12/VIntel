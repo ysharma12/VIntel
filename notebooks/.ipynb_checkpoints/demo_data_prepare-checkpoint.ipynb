{
 "cells": [
  {
   "cell_type": "code",
   "execution_count": 11,
   "metadata": {},
   "outputs": [],
   "source": [
    "from utilities import utils"
   ]
  },
  {
   "cell_type": "code",
   "execution_count": 2,
   "metadata": {},
   "outputs": [],
   "source": [
    "import pandas as pd\n",
    "from sklearn import preprocessing\n",
    "from matplotlib import pyplot as plt\n",
    "import seaborn as sns"
   ]
  },
  {
   "cell_type": "code",
   "execution_count": 5,
   "metadata": {},
   "outputs": [],
   "source": [
    "from keras.models import Sequential\n",
    "from keras_preprocessing.image import ImageDataGenerator\n",
    "from keras.layers import Dense, Activation, Flatten, Dropout, BatchNormalization\n",
    "from keras.layers import Conv2D, MaxPooling2D\n",
    "from keras import regularizers, optimizers\n",
    "import pandas as pd\n",
    "import numpy as np"
   ]
  },
  {
   "cell_type": "code",
   "execution_count": 14,
   "metadata": {},
   "outputs": [
    {
     "name": "stdout",
     "output_type": "stream",
     "text": [
      "/Users/yachnasharma/Downloads/case_study_visual_intelligence/VIntel/data/home_depot_products\n",
      "/Users/yachnasharma/Downloads/case_study_visual_intelligence/VIntel/data/home_depot_products/all_classes\n"
     ]
    }
   ],
   "source": [
    "util = utils.Utils()\n",
    "data_dir = util.data_dir\n",
    "print(data_dir)\n",
    "image_dir = data_dir + '/' + 'all_classes'\n",
    "print(image_dir)"
   ]
  },
  {
   "cell_type": "code",
   "execution_count": 6,
   "metadata": {},
   "outputs": [],
   "source": [
    "data = pd.read_csv('data.csv')"
   ]
  },
  {
   "cell_type": "code",
   "execution_count": 17,
   "metadata": {},
   "outputs": [],
   "source": [
    "data.sample(5)\n",
    "columns_to_keep = ['image_name', 'bar_stool', 'bookcase',\n",
    "                  'chandelier', 'dining_chair', 'market_umbrella',\n",
    "                  'night_stands', 'ottoman', 'sconces', 'table_lamp',\n",
    "                  'vases']\n",
    "cols_to_drop = [c for c in data.columns if c not in columns_to_keep]\n",
    "data = data.drop(cols_to_drop, axis=1)\n",
    "data['Filenames'] = data['image_name']\n",
    "data = data.drop(['image_name'], axis=1)"
   ]
  },
  {
   "cell_type": "code",
   "execution_count": 18,
   "metadata": {},
   "outputs": [
    {
     "data": {
      "text/html": [
       "<div>\n",
       "<style scoped>\n",
       "    .dataframe tbody tr th:only-of-type {\n",
       "        vertical-align: middle;\n",
       "    }\n",
       "\n",
       "    .dataframe tbody tr th {\n",
       "        vertical-align: top;\n",
       "    }\n",
       "\n",
       "    .dataframe thead th {\n",
       "        text-align: right;\n",
       "    }\n",
       "</style>\n",
       "<table border=\"1\" class=\"dataframe\">\n",
       "  <thead>\n",
       "    <tr style=\"text-align: right;\">\n",
       "      <th></th>\n",
       "      <th>bar_stool</th>\n",
       "      <th>bookcase</th>\n",
       "      <th>chandelier</th>\n",
       "      <th>dining_chair</th>\n",
       "      <th>market_umbrella</th>\n",
       "      <th>night_stands</th>\n",
       "      <th>ottoman</th>\n",
       "      <th>sconces</th>\n",
       "      <th>table_lamp</th>\n",
       "      <th>vases</th>\n",
       "      <th>Filenames</th>\n",
       "    </tr>\n",
       "  </thead>\n",
       "  <tbody>\n",
       "    <tr>\n",
       "      <th>2740</th>\n",
       "      <td>0</td>\n",
       "      <td>0</td>\n",
       "      <td>0</td>\n",
       "      <td>0</td>\n",
       "      <td>0</td>\n",
       "      <td>0</td>\n",
       "      <td>0</td>\n",
       "      <td>0</td>\n",
       "      <td>1</td>\n",
       "      <td>0</td>\n",
       "      <td>d0296fae-44d0-4e86-8f43-6ea32b838f8c.jpg</td>\n",
       "    </tr>\n",
       "    <tr>\n",
       "      <th>2609</th>\n",
       "      <td>0</td>\n",
       "      <td>0</td>\n",
       "      <td>0</td>\n",
       "      <td>0</td>\n",
       "      <td>0</td>\n",
       "      <td>0</td>\n",
       "      <td>0</td>\n",
       "      <td>0</td>\n",
       "      <td>1</td>\n",
       "      <td>0</td>\n",
       "      <td>32bdbbc8-27a8-440c-8a80-5b9f018065d0.jpg</td>\n",
       "    </tr>\n",
       "    <tr>\n",
       "      <th>981</th>\n",
       "      <td>0</td>\n",
       "      <td>0</td>\n",
       "      <td>1</td>\n",
       "      <td>0</td>\n",
       "      <td>0</td>\n",
       "      <td>0</td>\n",
       "      <td>0</td>\n",
       "      <td>0</td>\n",
       "      <td>0</td>\n",
       "      <td>0</td>\n",
       "      <td>b663414f-a648-4b4a-8cb2-c2e492ff3c70.jpg</td>\n",
       "    </tr>\n",
       "    <tr>\n",
       "      <th>2109</th>\n",
       "      <td>0</td>\n",
       "      <td>0</td>\n",
       "      <td>0</td>\n",
       "      <td>0</td>\n",
       "      <td>0</td>\n",
       "      <td>0</td>\n",
       "      <td>1</td>\n",
       "      <td>0</td>\n",
       "      <td>0</td>\n",
       "      <td>0</td>\n",
       "      <td>3bf069af-1ff3-4ccd-9ead-df007eb53b8b.jpg</td>\n",
       "    </tr>\n",
       "    <tr>\n",
       "      <th>73</th>\n",
       "      <td>1</td>\n",
       "      <td>0</td>\n",
       "      <td>0</td>\n",
       "      <td>0</td>\n",
       "      <td>0</td>\n",
       "      <td>0</td>\n",
       "      <td>0</td>\n",
       "      <td>0</td>\n",
       "      <td>0</td>\n",
       "      <td>0</td>\n",
       "      <td>92fc5d99-2372-44d9-96d9-0aa231bc78c0.jpg</td>\n",
       "    </tr>\n",
       "  </tbody>\n",
       "</table>\n",
       "</div>"
      ],
      "text/plain": [
       "      bar_stool  bookcase  chandelier  dining_chair  market_umbrella  \\\n",
       "2740          0         0           0             0                0   \n",
       "2609          0         0           0             0                0   \n",
       "981           0         0           1             0                0   \n",
       "2109          0         0           0             0                0   \n",
       "73            1         0           0             0                0   \n",
       "\n",
       "      night_stands  ottoman  sconces  table_lamp  vases  \\\n",
       "2740             0        0        0           1      0   \n",
       "2609             0        0        0           1      0   \n",
       "981              0        0        0           0      0   \n",
       "2109             0        1        0           0      0   \n",
       "73               0        0        0           0      0   \n",
       "\n",
       "                                     Filenames  \n",
       "2740  d0296fae-44d0-4e86-8f43-6ea32b838f8c.jpg  \n",
       "2609  32bdbbc8-27a8-440c-8a80-5b9f018065d0.jpg  \n",
       "981   b663414f-a648-4b4a-8cb2-c2e492ff3c70.jpg  \n",
       "2109  3bf069af-1ff3-4ccd-9ead-df007eb53b8b.jpg  \n",
       "73    92fc5d99-2372-44d9-96d9-0aa231bc78c0.jpg  "
      ]
     },
     "execution_count": 18,
     "metadata": {},
     "output_type": "execute_result"
    }
   ],
   "source": [
    "data.sample(5)"
   ]
  },
  {
   "cell_type": "code",
   "execution_count": 22,
   "metadata": {},
   "outputs": [
    {
     "name": "stdout",
     "output_type": "stream",
     "text": [
      "['bar_stool', 'bookcase', 'chandelier', 'dining_chair', 'market_umbrella', 'night_stands', 'ottoman', 'sconces', 'table_lamp', 'vases']\n"
     ]
    }
   ],
   "source": [
    "columns = [c for c in columns_to_keep if c != 'image_name']\n",
    "print(columns)"
   ]
  },
  {
   "cell_type": "code",
   "execution_count": 20,
   "metadata": {},
   "outputs": [
    {
     "data": {
      "text/plain": [
       "(2964, 11)"
      ]
     },
     "execution_count": 20,
     "metadata": {},
     "output_type": "execute_result"
    }
   ],
   "source": [
    "data.shape"
   ]
  },
  {
   "cell_type": "code",
   "execution_count": 21,
   "metadata": {},
   "outputs": [],
   "source": [
    "df = data"
   ]
  },
  {
   "cell_type": "code",
   "execution_count": 41,
   "metadata": {},
   "outputs": [],
   "source": [
    "df = df.sample(frac=1).reset_index(drop=True)"
   ]
  },
  {
   "cell_type": "code",
   "execution_count": 51,
   "metadata": {},
   "outputs": [
    {
     "data": {
      "text/plain": [
       "(464, 11)"
      ]
     },
     "execution_count": 51,
     "metadata": {},
     "output_type": "execute_result"
    }
   ],
   "source": [
    "df[2500:].shape"
   ]
  },
  {
   "cell_type": "code",
   "execution_count": 46,
   "metadata": {},
   "outputs": [
    {
     "name": "stdout",
     "output_type": "stream",
     "text": [
      "Found 1500 validated image filenames.\n",
      "Found 0 validated image filenames.\n",
      "Found 0 validated image filenames.\n"
     ]
    }
   ],
   "source": [
    "datagen = ImageDataGenerator(rescale=1./255.)\n",
    "test_datagen = ImageDataGenerator(rescale=1./255.)\n",
    "train_generator = datagen.flow_from_dataframe(\n",
    "dataframe = df[:1500],\n",
    "directory = image_dir,\n",
    "x_col = \"Filenames\",\n",
    "y_col = columns,\n",
    "batch_size = 32,\n",
    "seed = 42,\n",
    "shuffle = True,\n",
    "class_mode = \"other\",\n",
    "target_size = (256,256))\n",
    "\n",
    "valid_generator = test_datagen.flow_from_dataframe(\n",
    "dataframe = df[1500:2500],\n",
    "directory = data_dir,\n",
    "x_col = \"Filenames\",\n",
    "y_col = columns,\n",
    "batch_size = 32,\n",
    "seed = 42,\n",
    "shuffle = True,\n",
    "class_mode = \"other\",\n",
    "target_size = (256,256))\n",
    "\n",
    "test_generator = test_datagen.flow_from_dataframe(\n",
    "dataframe = df[2500:],\n",
    "directory = data_dir,\n",
    "x_col = \"Filenames\",\n",
    "batch_size = 16,\n",
    "seed = 42,\n",
    "shuffle = True,\n",
    "class_mode = None,\n",
    "target_size = (256,256))"
   ]
  },
  {
   "cell_type": "code",
   "execution_count": 47,
   "metadata": {},
   "outputs": [],
   "source": [
    "model = Sequential()\n",
    "model.add(Conv2D(32, (3, 3), padding='same',\n",
    "                 input_shape=(100,100,3)))\n",
    "model.add(Activation('relu'))\n",
    "model.add(Conv2D(32, (3, 3)))\n",
    "model.add(Activation('relu'))\n",
    "model.add(MaxPooling2D(pool_size=(2, 2)))\n",
    "model.add(Dropout(0.25))\n",
    "model.add(Conv2D(64, (3, 3), padding='same'))\n",
    "model.add(Activation('relu'))\n",
    "model.add(Conv2D(64, (3, 3)))\n",
    "model.add(Activation('relu'))\n",
    "model.add(MaxPooling2D(pool_size=(2, 2)))\n",
    "model.add(Dropout(0.25))\n",
    "model.add(Flatten())\n",
    "model.add(Dense(512))\n",
    "model.add(Activation('relu'))\n",
    "model.add(Dropout(0.5))\n",
    "model.add(Dense(10, activation='sigmoid'))\n",
    "model.compile(optimizers.rmsprop(lr=0.0001, decay=1e-6),loss=\"binary_crossentropy\",metrics=[\"accuracy\"])"
   ]
  },
  {
   "cell_type": "code",
   "execution_count": 48,
   "metadata": {},
   "outputs": [
    {
     "name": "stdout",
     "output_type": "stream",
     "text": [
      "0\n"
     ]
    }
   ],
   "source": [
    "STEP_SIZE_TRAIN = train_generator.n//train_generator.batch_size\n",
    "STEP_SIZE_VALID = valid_generator.n//valid_generator.batch_size\n",
    "STEP_SIZE_TEST = test_generator.n//test_generator.batch_size\n",
    "print(valid_generator.n)\n",
    "# print(STEP_SIZE_VALID)\n",
    "# model.fit_generator(generator = train_generator,\n",
    "#                     steps_per_epoch = STEP_SIZE_TRAIN,\n",
    "#                     validation_data = valid_generator,\n",
    "#                     validation_steps = STEP_SIZE_VALID,\n",
    "#                     epochs = 10\n",
    "# )"
   ]
  },
  {
   "cell_type": "code",
   "execution_count": null,
   "metadata": {},
   "outputs": [],
   "source": [
    "\n"
   ]
  }
 ],
 "metadata": {
  "kernelspec": {
   "display_name": "Python 3",
   "language": "python",
   "name": "python3"
  },
  "language_info": {
   "codemirror_mode": {
    "name": "ipython",
    "version": 3
   },
   "file_extension": ".py",
   "mimetype": "text/x-python",
   "name": "python",
   "nbconvert_exporter": "python",
   "pygments_lexer": "ipython3",
   "version": "3.7.0"
  },
  "toc": {
   "base_numbering": 1,
   "nav_menu": {},
   "number_sections": true,
   "sideBar": true,
   "skip_h1_title": false,
   "title_cell": "Table of Contents",
   "title_sidebar": "Contents",
   "toc_cell": false,
   "toc_position": {},
   "toc_section_display": true,
   "toc_window_display": false
  }
 },
 "nbformat": 4,
 "nbformat_minor": 2
}
